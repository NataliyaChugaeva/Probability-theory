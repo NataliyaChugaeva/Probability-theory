{
 "cells": [
  {
   "cell_type": "code",
   "execution_count": null,
   "metadata": {},
   "outputs": [],
   "source": [
    "X = np.array([2.51, 2.35, 2.74, 2.56, 2.40, 2.36, 2.65, 2.7, 2.67, 2.34])\n",
    "\n",
    "mean = X.mean()\n",
    "std = X.std(ddof=1)\n",
    "\n",
    "t_fact = (mean - 2.5) / std * np.sqrt(len(X))\n",
    "t_fact"
   ]
  },
  {
   "cell_type": "markdown",
   "metadata": {},
   "source": [
    "0.563061366180296\n",
    "По таблице для критерия Стьюдента находим t = 1.833 (для = 0.05 и 9 степенями свободы).\n",
    "Так как t > t_fact (1.833 > 0.56), то гипотеза верна и изделия соответствуют заявленному размеру."
   ]
  },
  {
   "cell_type": "code",
   "execution_count": null,
   "metadata": {},
   "outputs": [],
   "source": [
    "n = 10\n",
    "m = 2.5\n",
    "\n",
    "t = stats.t.ppf(0.975, 9)\n",
    "print(f\"t теор = {t:.2f}\")\n",
    "\n",
    "t = (mean - m) * np.sqrt(n) / std\n",
    "print(f\"t рассч = {t:.3f}\")"
   ]
  },
  {
   "cell_type": "markdown",
   "metadata": {},
   "source": [
    "t теор = 2.26\n",
    "t рассч = 0.563\n",
    "так как t теор > t рассч, считаем что нулевая гипотеза верна."
   ]
  }
 ],
 "metadata": {
  "kernelspec": {
   "display_name": "Python 3.10.8 64-bit (microsoft store)",
   "language": "python",
   "name": "python3"
  },
  "language_info": {
   "name": "python",
   "version": "3.10.8"
  },
  "orig_nbformat": 4,
  "vscode": {
   "interpreter": {
    "hash": "0c43ec2a8d25a6add02c5ff3e9e97b7978a4ea0105b74d1bddcf36962e1a0bca"
   }
  }
 },
 "nbformat": 4,
 "nbformat_minor": 2
}
