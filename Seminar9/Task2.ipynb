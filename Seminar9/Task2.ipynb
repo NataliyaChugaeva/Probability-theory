{
 "cells": [
  {
   "cell_type": "code",
   "execution_count": null,
   "metadata": {},
   "outputs": [],
   "source": [
    "import numpy as np"
   ]
  },
  {
   "cell_type": "code",
   "execution_count": null,
   "metadata": {},
   "outputs": [],
   "source": [
    "def _mse(b, x, y):\n",
    "    return np.sum((b*x-y)**2)/len(x)"
   ]
  },
  {
   "attachments": {},
   "cell_type": "markdown",
   "metadata": {},
   "source": [
    "Посчитаем значение для вычесленного нами коэффициента b=2.62"
   ]
  },
  {
   "cell_type": "code",
   "execution_count": null,
   "metadata": {},
   "outputs": [],
   "source": [
    "zp = np.array([35, 45, 190, 200, 40, 70, 54, 150, 120, 110])\n",
    "ks = np.array([401, 574, 874, 919, 459, 739, 653, 902, 746, 832])"
   ]
  },
  {
   "cell_type": "code",
   "execution_count": null,
   "metadata": {},
   "outputs": [],
   "source": [
    "_mse(2.62, zp, ks)"
   ]
  },
  {
   "attachments": {},
   "cell_type": "markdown",
   "metadata": {},
   "source": [
    "203812.48504"
   ]
  },
  {
   "cell_type": "code",
   "execution_count": null,
   "metadata": {},
   "outputs": [],
   "source": [
    "def _mse_p(b,x,y):\n",
    "    return (2/len(x))*np.sum((b*x-y)*x)"
   ]
  },
  {
   "attachments": {},
   "cell_type": "markdown",
   "metadata": {},
   "source": [
    "Так же введем параметр - скорость обучения c помощью которого будем регулировать скорость подбора коэффициента b"
   ]
  },
  {
   "cell_type": "code",
   "execution_count": null,
   "metadata": {},
   "outputs": [],
   "source": [
    "alpha=1e-06"
   ]
  },
  {
   "cell_type": "code",
   "execution_count": null,
   "metadata": {},
   "outputs": [],
   "source": [
    "b=0.1\n",
    "mse_min=_mse(b,zp,ks)\n",
    "i_min=1\n",
    "b_min=b\n",
    "for i in range(10000):\n",
    "    b-=alpha*_mse_p(b,zp,ks)\n",
    "    if i%100==0:\n",
    "        print(f'Итерация #{i}, b={b}, mse={_mse(b, zp,ks)}')\n",
    "    if _mse(b,zp,ks)>mse_min:\n",
    "        print(f'Итерация #{i_min}, b={b_min}, mse={mse_min},\\nДостигнут минимум.')\n",
    "        break\n",
    "    else:\n",
    "        mse_min=_mse(b,zp,ks)\n",
    "        i_min=i\n",
    "        b_min=b"
   ]
  },
  {
   "attachments": {},
   "cell_type": "markdown",
   "metadata": {},
   "source": [
    "Итерация #0, b=0.25952808000000005, mse=493237.7212546963\n",
    "Итерация #100, b=5.54537842245223, mse=58151.31823171113\n",
    "Итерация #200, b=5.868748638669329, mse=56522.97550129376\n",
    "Итерация #300, b=5.888531320728348, mse=56516.88130936019\n",
    "Итерация #400, b=5.8897415574471985, mse=56516.85850140053\n",
    "Итерация #500, b=5.889815595583751, mse=56516.858416040064\n",
    "Итерация #600, b=5.889820124983314, mse=56516.85841572062\n",
    "Итерация #628, b=5.889820285147628, mse=56516.85841571966,\n",
    "Достигнут минимум."
   ]
  },
  {
   "cell_type": "code",
   "execution_count": null,
   "metadata": {},
   "outputs": [],
   "source": [
    "b_min"
   ]
  },
  {
   "attachments": {},
   "cell_type": "markdown",
   "metadata": {},
   "source": [
    "5.889820285147628"
   ]
  }
 ],
 "metadata": {
  "language_info": {
   "name": "python"
  },
  "orig_nbformat": 4
 },
 "nbformat": 4,
 "nbformat_minor": 2
}
