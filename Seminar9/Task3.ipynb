{
 "cells": [
  {
   "cell_type": "code",
   "execution_count": null,
   "metadata": {},
   "outputs": [],
   "source": [
    "import numpy as np\n",
    "import matplotlib.pyplot as plt\n",
    "\n",
    "%matplotlib inline"
   ]
  },
  {
   "cell_type": "code",
   "execution_count": null,
   "metadata": {},
   "outputs": [],
   "source": [
    "zp = np.array([35, 45, 190, 200, 40, 70, 54, 150, 120, 110])\n",
    "ks = np.array([401, 574, 874, 919, 459, 739, 653, 902, 746, 832])"
   ]
  },
  {
   "attachments": {},
   "cell_type": "markdown",
   "metadata": {},
   "source": [
    "Функция потерь:"
   ]
  },
  {
   "cell_type": "code",
   "execution_count": null,
   "metadata": {},
   "outputs": [],
   "source": [
    "def _mse_ab(a,b, x, y):\n",
    "    return np.sum(((a+b*x)-y)**2)/len(x)"
   ]
  },
  {
   "attachments": {},
   "cell_type": "markdown",
   "metadata": {},
   "source": [
    "Частная производная функции потерь по a:"
   ]
  },
  {
   "cell_type": "code",
   "execution_count": null,
   "metadata": {},
   "outputs": [],
   "source": [
    "def _mse_pa(a,b,x,y): \n",
    "    return 2*np.sum((a+b*x)-y)/len(x)"
   ]
  },
  {
   "attachments": {},
   "cell_type": "markdown",
   "metadata": {},
   "source": [
    "Частная производная функции потерь по b:"
   ]
  },
  {
   "cell_type": "code",
   "execution_count": null,
   "metadata": {},
   "outputs": [],
   "source": [
    "def _mse_pb(a,b,x,y):\n",
    "    return 2*np.sum(((a+b*x)-y)*x)/len(x)"
   ]
  },
  {
   "attachments": {},
   "cell_type": "markdown",
   "metadata": {},
   "source": [
    "Скорость обучения:"
   ]
  },
  {
   "cell_type": "code",
   "execution_count": null,
   "metadata": {},
   "outputs": [],
   "source": [
    "alpha=5e-05"
   ]
  },
  {
   "cell_type": "code",
   "execution_count": null,
   "metadata": {},
   "outputs": [],
   "source": [
    "b=0.1\n",
    "a=0.1\n",
    "mseab_min=_mse_ab(a,b,zp,ks)\n",
    "i_min=1\n",
    "b_min=b\n",
    "a_min=a\n",
    "   \n",
    "for i in range(1000000):\n",
    "    a-=alpha*_mse_pa(a,b,zp,ks)\n",
    "    b-=alpha*_mse_pb(a,b,zp,ks)\n",
    "    if i%50000==0:\n",
    "        print(f'Итерация #{i}, a={a}, b={b}, mse={_mse_ab(a, b, zp,ks)}')\n",
    "    if _mse_ab(a, b,zp,ks)>mseab_min:\n",
    "        print(f'Итерация #{i_min}, a={a_min}, b={b_min}, mse={mseab_min},\\nДостигнут минимум.')\n",
    "        break\n",
    "    else:\n",
    "        mseab_min=_mse_ab(a, b,zp,ks)\n",
    "        i_min=i\n",
    "        b_min=b\n",
    "        a_min=a\n",
    "print(f'a={a_min}\\nb={b_min}')"
   ]
  },
  {
   "attachments": {},
   "cell_type": "markdown",
   "metadata": {},
   "source": [
    "Итерация #0, a=0.169966, b=8.07468054476, mse=122318.06397097567\n",
    "Итерация #50000, a=319.27767648420047, b=3.5398324356503275, mse=10427.569111705801\n",
    "Итерация #100000, a=409.0442373734796, b=2.879127619051743, mse=6783.521961452364\n",
    "Итерация #150000, a=434.29473705519484, b=2.693277491833349, mse=6495.188684804794\n",
    "Итерация #200000, a=441.3974680483413, b=2.6409995775222037, mse=6472.374468908443\n",
    "Итерация #250000, a=443.39540029510493, b=2.62629428586797, mse=6470.569306309746\n",
    "Итерация #300000, a=443.95740007610897, b=2.622157823932053, mse=6470.426473787141\n",
    "Итерация #350000, a=444.1154853937451, b=2.6209942756156086, mse=6470.415172240385\n",
    "Итерация #400000, a=444.159953325044, b=2.6206669802831115, mse=6470.414278011555\n",
    "Итерация #450000, a=444.1724617410292, b=2.6205749151465225, mse=6470.414207256183\n",
    "Итерация #500000, a=444.1759802422447, b=2.6205490180788695, mse=6470.414201657699\n",
    "Итерация #520164, a=444.17653163778414, b=2.62054495966686, mse=6470.414201349592,\n",
    "Достигнут минимум.\n",
    "a=444.17653163778414\n",
    "b=2.62054495966686"
   ]
  }
 ],
 "metadata": {
  "language_info": {
   "name": "python"
  },
  "orig_nbformat": 4
 },
 "nbformat": 4,
 "nbformat_minor": 2
}
